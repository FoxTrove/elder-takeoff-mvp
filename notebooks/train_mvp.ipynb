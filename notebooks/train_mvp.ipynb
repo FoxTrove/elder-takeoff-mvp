{
 "cells": [
  {
   "cell_type": "markdown",
   "metadata": {},
   "source": [
    "# AI Takeoff MVP - Training Notebook\n",
    "\n",
    "This notebook trains a YOLOv8 model to detect construction elements (e.g., outlets, doors) on blueprint images.\n",
    "\n",
    "## Prerequisites\n",
    "- At least 5-10 labeled images in `data_labeled/images/`\n",
    "- Corresponding YOLO format labels in `data_labeled/labels/`\n",
    "- `dataset.yaml` configured with correct class names"
   ]
  },
  {
   "cell_type": "markdown",
   "metadata": {},
   "source": [
    "## 1. Import Libraries"
   ]
  },
  {
   "cell_type": "code",
   "execution_count": null,
   "metadata": {},
   "outputs": [],
   "source": [
    "from ultralytics import YOLO\n",
    "import os\n",
    "from pathlib import Path\n",
    "import yaml\n",
    "\n",
    "print(\"✅ Libraries imported successfully\")\n",
    "print(f\"Current working directory: {os.getcwd()}\")"
   ]
  },
  {
   "cell_type": "markdown",
   "metadata": {},
   "source": [
    "## 2. Verify Data Setup"
   ]
  },
  {
   "cell_type": "code",
   "execution_count": null,
   "metadata": {},
   "outputs": [],
   "source": [
    "# Check if data directories exist\n",
    "data_labeled_path = Path('../data_labeled')\n",
    "images_path = data_labeled_path / 'images'\n",
    "labels_path = data_labeled_path / 'labels'\n",
    "dataset_yaml = data_labeled_path / 'dataset.yaml'\n",
    "\n",
    "print(\"📁 Checking data directories...\")\n",
    "print(f\"Images directory exists: {images_path.exists()}\")\n",
    "print(f\"Labels directory exists: {labels_path.exists()}\")\n",
    "print(f\"Dataset YAML exists: {dataset_yaml.exists()}\")\n",
    "\n",
    "# Count images and labels\n",
    "if images_path.exists():\n",
    "    image_files = list(images_path.glob('*.png')) + list(images_path.glob('*.jpg')) + list(images_path.glob('*.jpeg'))\n",
    "    print(f\"\\n📊 Found {len(image_files)} images\")\n",
    "    \n",
    "if labels_path.exists():\n",
    "    label_files = list(labels_path.glob('*.txt'))\n",
    "    print(f\"📊 Found {len(label_files)} label files\")\n",
    "    \n",
    "if len(image_files) < 5:\n",
    "    print(\"\\n⚠️  WARNING: You have fewer than 5 images. Consider adding more for better training.\")\n",
    "else:\n",
    "    print(\"\\n✅ Data setup looks good!\")\n",
    "\n",
    "# Display dataset configuration\n",
    "if dataset_yaml.exists():\n",
    "    with open(dataset_yaml, 'r') as f:\n",
    "        config = yaml.safe_load(f)\n",
    "    print(\"\\n📋 Dataset Configuration:\")\n",
    "    print(f\"Classes: {config.get('names', {})}\")"
   ]
  },
  {
   "cell_type": "markdown",
   "metadata": {},
   "source": [
    "## 3. Load Pre-trained YOLOv8 Model\n",
    "\n",
    "We'll use YOLOv8n (nano) - the smallest and fastest variant, perfect for MVP."
   ]
  },
  {
   "cell_type": "code",
   "execution_count": null,
   "metadata": {},
   "outputs": [],
   "source": [
    "# Load a pre-trained YOLOv8n model\n",
    "print(\"🔄 Loading pre-trained YOLOv8n model...\")\n",
    "model = YOLO('yolov8n.pt')  # This will download the model if not present\n",
    "print(\"✅ Model loaded successfully!\")"
   ]
  },
  {
   "cell_type": "markdown",
   "metadata": {},
   "source": [
    "## 4. Train the Model\n",
    "\n",
    "Training parameters:\n",
    "- **epochs=20**: Number of training iterations (good for MVP)\n",
    "- **imgsz=640**: Image size for training\n",
    "- **batch=8**: Batch size (adjust based on your GPU memory)\n",
    "- **patience=5**: Early stopping if no improvement"
   ]
  },
  {
   "cell_type": "code",
   "execution_count": null,
   "metadata": {},
   "outputs": [],
   "source": [
    "# Train the model\n",
    "print(\"🚀 Starting training...\\n\")\n",
    "\n",
    "results = model.train(\n",
    "    data='../data_labeled/dataset.yaml',  # Path to dataset configuration\n",
    "    epochs=20,                             # Number of training epochs\n",
    "    imgsz=640,                             # Image size\n",
    "    batch=8,                               # Batch size (reduce if out of memory)\n",
    "    name='takeoff_mvp',                    # Experiment name\n",
    "    patience=5,                            # Early stopping patience\n",
    "    save=True,                             # Save checkpoints\n",
    "    plots=True,                            # Generate training plots\n",
    "    device='cpu'                           # Use 'cuda' if you have GPU, 'cpu' otherwise\n",
    ")\n",
    "\n",
    "print(\"\\n✅ Training completed!\")"
   ]
  },
  {
   "cell_type": "markdown",
   "metadata": {},
   "source": [
    "## 5. Save the Trained Model"
   ]
  },
  {
   "cell_type": "code",
   "execution_count": null,
   "metadata": {},
   "outputs": [],
   "source": [
    "# The best model is automatically saved during training\n",
    "# Let's copy it to our models directory for easy access\n",
    "\n",
    "import shutil\n",
    "\n",
    "# YOLOv8 saves the best model in runs/detect/takeoff_mvp/weights/best.pt\n",
    "source_model = Path('runs/detect/takeoff_mvp/weights/best.pt')\n",
    "target_model = Path('../models/best.pt')\n",
    "\n",
    "if source_model.exists():\n",
    "    target_model.parent.mkdir(parents=True, exist_ok=True)\n",
    "    shutil.copy(source_model, target_model)\n",
    "    print(f\"✅ Model saved to: {target_model.absolute()}\")\n",
    "    print(f\"📊 Model size: {target_model.stat().st_size / (1024*1024):.2f} MB\")\n",
    "else:\n",
    "    print(\"⚠️  Could not find trained model. Check training output above.\")"
   ]
  },
  {
   "cell_type": "markdown",
   "metadata": {},
   "source": [
    "## 6. View Training Results"
   ]
  },
  {
   "cell_type": "code",
   "execution_count": null,
   "metadata": {},
   "outputs": [],
   "source": [
    "from IPython.display import Image, display\n",
    "import matplotlib.pyplot as plt\n",
    "\n",
    "# Display training results plot\n",
    "results_plot = Path('runs/detect/takeoff_mvp/results.png')\n",
    "\n",
    "if results_plot.exists():\n",
    "    print(\"📈 Training Results:\")\n",
    "    display(Image(filename=str(results_plot)))\n",
    "else:\n",
    "    print(\"⚠️  Results plot not found\")\n",
    "\n",
    "# Display confusion matrix\n",
    "confusion_matrix = Path('runs/detect/takeoff_mvp/confusion_matrix.png')\n",
    "if confusion_matrix.exists():\n",
    "    print(\"\\n📊 Confusion Matrix:\")\n",
    "    display(Image(filename=str(confusion_matrix)))"
   ]
  },
  {
   "cell_type": "markdown",
   "metadata": {},
   "source": [
    "## 7. Quick Test on Training Data"
   ]
  },
  {
   "cell_type": "code",
   "execution_count": null,
   "metadata": {},
   "outputs": [],
   "source": [
    "# Load the trained model\n",
    "trained_model = YOLO('../models/best.pt')\n",
    "\n",
    "# Test on one of the training images\n",
    "if len(image_files) > 0:\n",
    "    test_image = image_files[0]\n",
    "    print(f\"🔍 Testing on: {test_image.name}\")\n",
    "    \n",
    "    results = trained_model(str(test_image))\n",
    "    \n",
    "    # Display results\n",
    "    for result in results:\n",
    "        # Get detection count\n",
    "        num_detections = len(result.boxes)\n",
    "        print(f\"\\n✅ Detected {num_detections} objects\")\n",
    "        \n",
    "        # Show image with detections\n",
    "        result_img = result.plot()\n",
    "        plt.figure(figsize=(12, 8))\n",
    "        plt.imshow(result_img[..., ::-1])  # Convert BGR to RGB\n",
    "        plt.axis('off')\n",
    "        plt.title(f'Detection Results: {num_detections} objects found')\n",
    "        plt.tight_layout()\n",
    "        plt.show()\n",
    "else:\n",
    "    print(\"⚠️  No images found for testing\")"
   ]
  },
  {
   "cell_type": "markdown",
   "metadata": {},
   "source": [
    "## Summary\n",
    "\n",
    "✅ Training complete! Your model is saved at `../models/best.pt`\n",
    "\n",
    "### Next Steps:\n",
    "1. Open `test_mvp.ipynb` to run inference on new images\n",
    "2. If accuracy is low, consider:\n",
    "   - Adding more labeled training data\n",
    "   - Training for more epochs\n",
    "   - Adjusting the confidence threshold\n",
    "3. Check the training plots above to understand model performance\n",
    "\n",
    "### Key Metrics to Watch:\n",
    "- **mAP50**: Mean Average Precision at 50% IoU (higher is better)\n",
    "- **Precision**: How many detections were correct\n",
    "- **Recall**: How many actual objects were detected"
   ]
  }
 ],
 "metadata": {
  "kernelspec": {
   "display_name": "Python 3",
   "language": "python",
   "name": "python3"
  },
  "language_info": {
   "codemirror_mode": {
    "name": "ipython",
    "version": 3
   },
   "file_extension": ".py",
   "mimetype": "text/x-python",
   "name": "python",
   "nbconvert_exporter": "python",
   "pygments_lexer": "ipython3",
   "version": "3.10.0"
  }
 },
 "nbformat": 4,
 "nbformat_minor": 4
}
